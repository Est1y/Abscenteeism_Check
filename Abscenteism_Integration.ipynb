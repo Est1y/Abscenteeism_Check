{
 "cells": [
  {
   "cell_type": "code",
   "execution_count": 1,
   "metadata": {},
   "outputs": [],
   "source": [
    "from Abscenteism_module import *"
   ]
  },
  {
   "cell_type": "code",
   "execution_count": 2,
   "metadata": {},
   "outputs": [
    {
     "ename": "NameError",
     "evalue": "name 'columns_to_scale' is not defined",
     "output_type": "error",
     "traceback": [
      "\u001b[1;31m---------------------------------------------------------------------------\u001b[0m",
      "\u001b[1;31mNameError\u001b[0m                                 Traceback (most recent call last)",
      "Cell \u001b[1;32mIn[2], line 1\u001b[0m\n\u001b[1;32m----> 1\u001b[0m model \u001b[38;5;241m=\u001b[39m \u001b[43mabsenteeism_model\u001b[49m\u001b[43m(\u001b[49m\u001b[38;5;124;43m'\u001b[39;49m\u001b[38;5;124;43mmodel\u001b[39;49m\u001b[38;5;124;43m'\u001b[39;49m\u001b[43m,\u001b[49m\u001b[43m \u001b[49m\u001b[38;5;124;43m'\u001b[39;49m\u001b[38;5;124;43mScaler\u001b[39;49m\u001b[38;5;124;43m'\u001b[39;49m\u001b[43m)\u001b[49m\n",
      "File \u001b[1;32md:\\Projects\\Abscenteeism_Check\\Abscenteism_module.py:34\u001b[0m, in \u001b[0;36mabsenteeism_model.__init__\u001b[1;34m(self, model_file, scaler_file)\u001b[0m\n\u001b[0;32m     29\u001b[0m     \u001b[38;5;28mself\u001b[39m\u001b[38;5;241m.\u001b[39mscaler \u001b[38;5;241m=\u001b[39m pickle\u001b[38;5;241m.\u001b[39mload(scaler_file)\n\u001b[0;32m     30\u001b[0m     \u001b[38;5;28mself\u001b[39m\u001b[38;5;241m.\u001b[39mdata \u001b[38;5;241m=\u001b[39m \u001b[38;5;28;01mNone\u001b[39;00m\n\u001b[0;32m     32\u001b[0m \u001b[38;5;28mself\u001b[39m\u001b[38;5;241m.\u001b[39mpipe \u001b[38;5;241m=\u001b[39m Pipeline([\n\u001b[0;32m     33\u001b[0m    (\u001b[38;5;124m'\u001b[39m\u001b[38;5;124mpreprocessor\u001b[39m\u001b[38;5;124m'\u001b[39m, Preprocessor()),\n\u001b[1;32m---> 34\u001b[0m    (\u001b[38;5;124m'\u001b[39m\u001b[38;5;124mscaler\u001b[39m\u001b[38;5;124m'\u001b[39m, CustomScaler(\u001b[43mcolumns_to_scale\u001b[49m)),\n\u001b[0;32m     35\u001b[0m ])\n",
      "\u001b[1;31mNameError\u001b[0m: name 'columns_to_scale' is not defined"
     ]
    }
   ],
   "source": [
    "model = absenteeism_model('model', 'Scaler')"
   ]
  },
  {
   "cell_type": "code",
   "execution_count": null,
   "metadata": {},
   "outputs": [
    {
     "name": "stdout",
     "output_type": "stream",
     "text": [
      "    ID  Reason for Absence        Date  Transportation Expense  \\\n",
      "0   22                  27    1/6/2018                     179   \n",
      "1   10                   7    4/6/2018                     361   \n",
      "2   14                  23    6/6/2018                     155   \n",
      "3   17                  25    8/6/2018                     179   \n",
      "4   14                  10    8/6/2018                     155   \n",
      "5   28                  11   11/6/2018                     225   \n",
      "6   16                   7  13/06/2018                     118   \n",
      "7   22                  27  13/06/2018                     179   \n",
      "8   34                  26  15/06/2018                     118   \n",
      "9   34                  10  20/06/2018                     118   \n",
      "10  23                  22  21/06/2018                     378   \n",
      "11  36                  19  21/06/2018                     118   \n",
      "12  12                  19  22/06/2018                     233   \n",
      "13  22                  27  22/06/2018                     179   \n",
      "14   2                   0  25/06/2018                     235   \n",
      "15  21                   0  28/06/2018                     268   \n",
      "16  36                  19  28/06/2018                     118   \n",
      "17  22                  13  28/06/2018                     179   \n",
      "18  15                  28  28/06/2018                     291   \n",
      "19  22                  13    2/7/2018                     179   \n",
      "20  34                  25    2/7/2018                     118   \n",
      "21  12                  22    5/7/2018                     233   \n",
      "22  34                   8    6/7/2018                     118   \n",
      "23  34                  10   11/7/2018                     118   \n",
      "24  12                  22   11/7/2018                     233   \n",
      "25   5                  26   11/7/2018                     235   \n",
      "26  12                  19  13/07/2018                     233   \n",
      "27   9                   6  16/07/2018                     228   \n",
      "28  34                  28  16/07/2018                     118   \n",
      "29   9                   6  17/07/2018                     228   \n",
      "30   6                  22  17/07/2018                     189   \n",
      "31  34                  23  18/07/2018                     118   \n",
      "32  10                  22  18/07/2018                     361   \n",
      "33  28                  22  18/07/2018                     225   \n",
      "34  13                  13  23/07/2018                     369   \n",
      "35  11                  14  24/07/2018                     289   \n",
      "36   1                  11  24/07/2018                     235   \n",
      "37   4                   0  24/07/2018                     118   \n",
      "38   8                   0  25/07/2018                     231   \n",
      "39  35                   0  27/07/2018                     179   \n",
      "\n",
      "    Distance to Work  Age  Daily Work Load Average  Body Mass Index  \\\n",
      "0                 26   30                  237.656               19   \n",
      "1                 52   28                  237.656               27   \n",
      "2                 12   34                  237.656               25   \n",
      "3                 22   40                  237.656               22   \n",
      "4                 12   34                  237.656               25   \n",
      "5                 26   28                  237.656               24   \n",
      "6                 15   46                  275.089               25   \n",
      "7                 26   30                  275.089               19   \n",
      "8                 10   37                  275.089               28   \n",
      "9                 10   37                  275.089               28   \n",
      "10                49   36                  275.089               21   \n",
      "11                13   50                  275.089               31   \n",
      "12                51   31                  275.089               21   \n",
      "13                26   30                  275.089               19   \n",
      "14                29   48                  275.089               33   \n",
      "15                11   33                  275.089               25   \n",
      "16                13   50                  275.089               31   \n",
      "17                26   30                  275.089               19   \n",
      "18                31   40                  275.089               25   \n",
      "19                26   30                  275.089               19   \n",
      "20                10   37                  275.089               28   \n",
      "21                51   31                  275.089               21   \n",
      "22                10   37                  275.089               28   \n",
      "23                10   37                  275.089               28   \n",
      "24                51   31                  275.089               21   \n",
      "25                20   43                  264.604               38   \n",
      "26                51   31                  264.604               21   \n",
      "27                14   58                  264.604               22   \n",
      "28                10   37                  264.604               28   \n",
      "29                14   58                  264.604               22   \n",
      "30                29   33                  264.604               25   \n",
      "31                10   37                  264.604               28   \n",
      "32                52   28                  264.604               27   \n",
      "33                26   28                  264.604               24   \n",
      "34                17   31                  264.604               25   \n",
      "35                36   33                  264.604               30   \n",
      "36                11   37                  264.604               29   \n",
      "37                14   40                  271.219               34   \n",
      "38                35   39                  271.219               35   \n",
      "39                45   53                  271.219               25   \n",
      "\n",
      "    Education  Children  Pets  Absenteeism Time in Hours  \n",
      "0           3         0     0                          4  \n",
      "1           1         1     4                          0  \n",
      "2           1         2     0                          2  \n",
      "3           2         2     0                          4  \n",
      "4           1         2     0                          2  \n",
      "5           1         1     2                          2  \n",
      "6           1         2     0                          8  \n",
      "7           3         0     0                          4  \n",
      "8           1         0     0                         40  \n",
      "9           1         0     0                          8  \n",
      "10          1         2     4                          8  \n",
      "11          1         1     0                          8  \n",
      "12          2         1     8                          8  \n",
      "13          3         0     0                          1  \n",
      "14          1         1     5                          4  \n",
      "15          2         0     0                          8  \n",
      "16          1         1     0                          2  \n",
      "17          3         0     0                          8  \n",
      "18          1         1     1                          8  \n",
      "19          3         0     0                          2  \n",
      "20          1         0     0                          8  \n",
      "21          2         1     8                          1  \n",
      "22          1         0     0                         40  \n",
      "23          1         0     0                          4  \n",
      "24          2         1     8                          8  \n",
      "25          1         1     0                          7  \n",
      "26          2         1     8                          1  \n",
      "27          1         2     1                          4  \n",
      "28          1         0     0                          8  \n",
      "29          1         2     1                          2  \n",
      "30          1         2     2                          8  \n",
      "31          1         0     0                          8  \n",
      "32          1         1     4                          4  \n",
      "33          1         1     2                          8  \n",
      "34          1         3     0                          2  \n",
      "35          1         2     1                          1  \n",
      "36          3         1     1                          8  \n",
      "37          1         1     8                          4  \n",
      "38          1         2     2                          8  \n",
      "39          1         1     1                          4  \n"
     ]
    },
    {
     "ename": "TypeError",
     "evalue": "Last step of Pipeline should implement fit or be the string 'passthrough'. 'CustomScaler(columns_to_scale=['Reason_1', 'Reason_2', 'Reason_3', 'Reason_4',\n                               'Month Value', 'Transportation Expense', 'Age',\n                               'Body Mass Index', 'Children'])' (type <class '__main__.CustomScaler'>) doesn't",
     "output_type": "error",
     "traceback": [
      "\u001b[1;31m---------------------------------------------------------------------------\u001b[0m",
      "\u001b[1;31mTypeError\u001b[0m                                 Traceback (most recent call last)",
      "Cell \u001b[1;32mIn[4], line 1\u001b[0m\n\u001b[1;32m----> 1\u001b[0m \u001b[43mmodel\u001b[49m\u001b[38;5;241;43m.\u001b[39;49m\u001b[43mload_and_clean_data\u001b[49m\u001b[43m(\u001b[49m\u001b[38;5;124;43m'\u001b[39;49m\u001b[38;5;124;43mAbsenteeism_new_data2.csv\u001b[39;49m\u001b[38;5;124;43m'\u001b[39;49m\u001b[43m)\u001b[49m\n",
      "Cell \u001b[1;32mIn[2], line 99\u001b[0m, in \u001b[0;36mabsenteeism_model.load_and_clean_data\u001b[1;34m(self, data_file)\u001b[0m\n\u001b[0;32m     90\u001b[0m         \u001b[38;5;66;03m# drop the variables we decide we don't need\u001b[39;00m\n\u001b[0;32m     91\u001b[0m     \u001b[38;5;66;03m#df = df.drop(['Day of the Week','Daily Work Load Average','Distance to Work'],axis=1)\u001b[39;00m\n\u001b[0;32m     92\u001b[0m         \n\u001b[0;32m     93\u001b[0m         \u001b[38;5;66;03m# we have included this line of code if you want to call the 'preprocessed data'\u001b[39;00m\n\u001b[0;32m     94\u001b[0m     \u001b[38;5;66;03m#self.data= self.data .replace({False : 0, True :1})\u001b[39;00m\n\u001b[0;32m     95\u001b[0m     \u001b[38;5;28mself\u001b[39m\u001b[38;5;241m.\u001b[39mpipe \u001b[38;5;241m=\u001b[39m Pipeline([\n\u001b[0;32m     96\u001b[0m         (\u001b[38;5;124m'\u001b[39m\u001b[38;5;124mpreprocessor\u001b[39m\u001b[38;5;124m'\u001b[39m, Preprocessor()),\n\u001b[0;32m     97\u001b[0m         (\u001b[38;5;124m'\u001b[39m\u001b[38;5;124mscaler\u001b[39m\u001b[38;5;124m'\u001b[39m, CustomScaler(columns_to_scale)),\n\u001b[0;32m     98\u001b[0m ])\n\u001b[1;32m---> 99\u001b[0m     \u001b[38;5;28mself\u001b[39m\u001b[38;5;241m.\u001b[39mdata \u001b[38;5;241m=\u001b[39m \u001b[38;5;28;43mself\u001b[39;49m\u001b[38;5;241;43m.\u001b[39;49m\u001b[43mpipe\u001b[49m\u001b[38;5;241;43m.\u001b[39;49m\u001b[43mfit_transform\u001b[49m\u001b[43m(\u001b[49m\u001b[43mdf\u001b[49m\u001b[43m)\u001b[49m\n\u001b[0;32m    102\u001b[0m     \u001b[38;5;28;01mreturn\u001b[39;00m \u001b[38;5;28mself\u001b[39m\u001b[38;5;241m.\u001b[39mdata\u001b[38;5;241m.\u001b[39mshape\n",
      "File \u001b[1;32md:\\Projects\\Abscenteeism_Check\\venv\\Lib\\site-packages\\sklearn\\base.py:1474\u001b[0m, in \u001b[0;36m_fit_context.<locals>.decorator.<locals>.wrapper\u001b[1;34m(estimator, *args, **kwargs)\u001b[0m\n\u001b[0;32m   1467\u001b[0m     estimator\u001b[38;5;241m.\u001b[39m_validate_params()\n\u001b[0;32m   1469\u001b[0m \u001b[38;5;28;01mwith\u001b[39;00m config_context(\n\u001b[0;32m   1470\u001b[0m     skip_parameter_validation\u001b[38;5;241m=\u001b[39m(\n\u001b[0;32m   1471\u001b[0m         prefer_skip_nested_validation \u001b[38;5;129;01mor\u001b[39;00m global_skip_validation\n\u001b[0;32m   1472\u001b[0m     )\n\u001b[0;32m   1473\u001b[0m ):\n\u001b[1;32m-> 1474\u001b[0m     \u001b[38;5;28;01mreturn\u001b[39;00m \u001b[43mfit_method\u001b[49m\u001b[43m(\u001b[49m\u001b[43mestimator\u001b[49m\u001b[43m,\u001b[49m\u001b[43m \u001b[49m\u001b[38;5;241;43m*\u001b[39;49m\u001b[43margs\u001b[49m\u001b[43m,\u001b[49m\u001b[43m \u001b[49m\u001b[38;5;241;43m*\u001b[39;49m\u001b[38;5;241;43m*\u001b[39;49m\u001b[43mkwargs\u001b[49m\u001b[43m)\u001b[49m\n",
      "File \u001b[1;32md:\\Projects\\Abscenteeism_Check\\venv\\Lib\\site-packages\\sklearn\\pipeline.py:535\u001b[0m, in \u001b[0;36mPipeline.fit_transform\u001b[1;34m(self, X, y, **params)\u001b[0m\n\u001b[0;32m    492\u001b[0m \u001b[38;5;250m\u001b[39m\u001b[38;5;124;03m\"\"\"Fit the model and transform with the final estimator.\u001b[39;00m\n\u001b[0;32m    493\u001b[0m \n\u001b[0;32m    494\u001b[0m \u001b[38;5;124;03mFit all the transformers one after the other and sequentially transform\u001b[39;00m\n\u001b[1;32m   (...)\u001b[0m\n\u001b[0;32m    532\u001b[0m \u001b[38;5;124;03m    Transformed samples.\u001b[39;00m\n\u001b[0;32m    533\u001b[0m \u001b[38;5;124;03m\"\"\"\u001b[39;00m\n\u001b[0;32m    534\u001b[0m routed_params \u001b[38;5;241m=\u001b[39m \u001b[38;5;28mself\u001b[39m\u001b[38;5;241m.\u001b[39m_check_method_params(method\u001b[38;5;241m=\u001b[39m\u001b[38;5;124m\"\u001b[39m\u001b[38;5;124mfit_transform\u001b[39m\u001b[38;5;124m\"\u001b[39m, props\u001b[38;5;241m=\u001b[39mparams)\n\u001b[1;32m--> 535\u001b[0m Xt \u001b[38;5;241m=\u001b[39m \u001b[38;5;28;43mself\u001b[39;49m\u001b[38;5;241;43m.\u001b[39;49m\u001b[43m_fit\u001b[49m\u001b[43m(\u001b[49m\u001b[43mX\u001b[49m\u001b[43m,\u001b[49m\u001b[43m \u001b[49m\u001b[43my\u001b[49m\u001b[43m,\u001b[49m\u001b[43m \u001b[49m\u001b[43mrouted_params\u001b[49m\u001b[43m)\u001b[49m\n\u001b[0;32m    537\u001b[0m last_step \u001b[38;5;241m=\u001b[39m \u001b[38;5;28mself\u001b[39m\u001b[38;5;241m.\u001b[39m_final_estimator\n\u001b[0;32m    538\u001b[0m \u001b[38;5;28;01mwith\u001b[39;00m _print_elapsed_time(\u001b[38;5;124m\"\u001b[39m\u001b[38;5;124mPipeline\u001b[39m\u001b[38;5;124m\"\u001b[39m, \u001b[38;5;28mself\u001b[39m\u001b[38;5;241m.\u001b[39m_log_message(\u001b[38;5;28mlen\u001b[39m(\u001b[38;5;28mself\u001b[39m\u001b[38;5;241m.\u001b[39msteps) \u001b[38;5;241m-\u001b[39m \u001b[38;5;241m1\u001b[39m)):\n",
      "File \u001b[1;32md:\\Projects\\Abscenteeism_Check\\venv\\Lib\\site-packages\\sklearn\\pipeline.py:388\u001b[0m, in \u001b[0;36mPipeline._fit\u001b[1;34m(self, X, y, routed_params)\u001b[0m\n\u001b[0;32m    385\u001b[0m \u001b[38;5;28;01mdef\u001b[39;00m \u001b[38;5;21m_fit\u001b[39m(\u001b[38;5;28mself\u001b[39m, X, y\u001b[38;5;241m=\u001b[39m\u001b[38;5;28;01mNone\u001b[39;00m, routed_params\u001b[38;5;241m=\u001b[39m\u001b[38;5;28;01mNone\u001b[39;00m):\n\u001b[0;32m    386\u001b[0m     \u001b[38;5;66;03m# shallow copy of steps - this should really be steps_\u001b[39;00m\n\u001b[0;32m    387\u001b[0m     \u001b[38;5;28mself\u001b[39m\u001b[38;5;241m.\u001b[39msteps \u001b[38;5;241m=\u001b[39m \u001b[38;5;28mlist\u001b[39m(\u001b[38;5;28mself\u001b[39m\u001b[38;5;241m.\u001b[39msteps)\n\u001b[1;32m--> 388\u001b[0m     \u001b[38;5;28;43mself\u001b[39;49m\u001b[38;5;241;43m.\u001b[39;49m\u001b[43m_validate_steps\u001b[49m\u001b[43m(\u001b[49m\u001b[43m)\u001b[49m\n\u001b[0;32m    389\u001b[0m     \u001b[38;5;66;03m# Setup the memory\u001b[39;00m\n\u001b[0;32m    390\u001b[0m     memory \u001b[38;5;241m=\u001b[39m check_memory(\u001b[38;5;28mself\u001b[39m\u001b[38;5;241m.\u001b[39mmemory)\n",
      "File \u001b[1;32md:\\Projects\\Abscenteeism_Check\\venv\\Lib\\site-packages\\sklearn\\pipeline.py:271\u001b[0m, in \u001b[0;36mPipeline._validate_steps\u001b[1;34m(self)\u001b[0m\n\u001b[0;32m    265\u001b[0m \u001b[38;5;66;03m# We allow last estimator to be None as an identity transformation\u001b[39;00m\n\u001b[0;32m    266\u001b[0m \u001b[38;5;28;01mif\u001b[39;00m (\n\u001b[0;32m    267\u001b[0m     estimator \u001b[38;5;129;01mis\u001b[39;00m \u001b[38;5;129;01mnot\u001b[39;00m \u001b[38;5;28;01mNone\u001b[39;00m\n\u001b[0;32m    268\u001b[0m     \u001b[38;5;129;01mand\u001b[39;00m estimator \u001b[38;5;241m!=\u001b[39m \u001b[38;5;124m\"\u001b[39m\u001b[38;5;124mpassthrough\u001b[39m\u001b[38;5;124m\"\u001b[39m\n\u001b[0;32m    269\u001b[0m     \u001b[38;5;129;01mand\u001b[39;00m \u001b[38;5;129;01mnot\u001b[39;00m \u001b[38;5;28mhasattr\u001b[39m(estimator, \u001b[38;5;124m\"\u001b[39m\u001b[38;5;124mfit\u001b[39m\u001b[38;5;124m\"\u001b[39m)\n\u001b[0;32m    270\u001b[0m ):\n\u001b[1;32m--> 271\u001b[0m     \u001b[38;5;28;01mraise\u001b[39;00m \u001b[38;5;167;01mTypeError\u001b[39;00m(\n\u001b[0;32m    272\u001b[0m         \u001b[38;5;124m\"\u001b[39m\u001b[38;5;124mLast step of Pipeline should implement fit \u001b[39m\u001b[38;5;124m\"\u001b[39m\n\u001b[0;32m    273\u001b[0m         \u001b[38;5;124m\"\u001b[39m\u001b[38;5;124mor be the string \u001b[39m\u001b[38;5;124m'\u001b[39m\u001b[38;5;124mpassthrough\u001b[39m\u001b[38;5;124m'\u001b[39m\u001b[38;5;124m. \u001b[39m\u001b[38;5;124m\"\u001b[39m\n\u001b[0;32m    274\u001b[0m         \u001b[38;5;124m\"\u001b[39m\u001b[38;5;124m'\u001b[39m\u001b[38;5;132;01m%s\u001b[39;00m\u001b[38;5;124m'\u001b[39m\u001b[38;5;124m (type \u001b[39m\u001b[38;5;132;01m%s\u001b[39;00m\u001b[38;5;124m) doesn\u001b[39m\u001b[38;5;124m'\u001b[39m\u001b[38;5;124mt\u001b[39m\u001b[38;5;124m\"\u001b[39m \u001b[38;5;241m%\u001b[39m (estimator, \u001b[38;5;28mtype\u001b[39m(estimator))\n\u001b[0;32m    275\u001b[0m     )\n",
      "\u001b[1;31mTypeError\u001b[0m: Last step of Pipeline should implement fit or be the string 'passthrough'. 'CustomScaler(columns_to_scale=['Reason_1', 'Reason_2', 'Reason_3', 'Reason_4',\n                               'Month Value', 'Transportation Expense', 'Age',\n                               'Body Mass Index', 'Children'])' (type <class '__main__.CustomScaler'>) doesn't"
     ]
    }
   ],
   "source": [
    "model.load_and_clean_data('Absenteeism_new_data2.csv')"
   ]
  },
  {
   "cell_type": "code",
   "execution_count": null,
   "metadata": {},
   "outputs": [],
   "source": [
    "#model.predicted_outputs()"
   ]
  },
  {
   "cell_type": "code",
   "execution_count": null,
   "metadata": {},
   "outputs": [],
   "source": []
  }
 ],
 "metadata": {
  "kernelspec": {
   "display_name": "venv",
   "language": "python",
   "name": "python3"
  },
  "language_info": {
   "codemirror_mode": {
    "name": "ipython",
    "version": 3
   },
   "file_extension": ".py",
   "mimetype": "text/x-python",
   "name": "python",
   "nbconvert_exporter": "python",
   "pygments_lexer": "ipython3",
   "version": "3.11.3"
  }
 },
 "nbformat": 4,
 "nbformat_minor": 2
}
